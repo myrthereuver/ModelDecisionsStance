{
 "cells": [
  {
   "cell_type": "code",
   "execution_count": null,
   "id": "d08f611d-99b3-4940-b5d9-21de9796518d",
   "metadata": {},
   "outputs": [],
   "source": [
    "import pandas as pd\n",
    "from datasets import Dataset"
   ]
  },
  {
   "cell_type": "code",
   "execution_count": null,
   "id": "b1d6a9c7-cb74-4839-ba73-b56615152eee",
   "metadata": {},
   "outputs": [],
   "source": [
    "train_df_bench = pd.read_pickle(\"Datasets/ProCon-bench/StanceBenchmarkProCon_allTrainingDatasets_nopreprocessing.pickle\")\n",
    "\n",
    "dev_df_bench = pd.read_pickle(\"Datasets/ProCon-bench/StanceBenchmarkProCon_allDevDatasets_nopreprocessing.pickle\")\n",
    "\n",
    "test_df_bench = pd.read_pickle(\"Datasets/ProCon-bench/StanceBenchmarkProCon_allTestDatasets_nopreprocessing.pickle\")\n",
    "\n",
    "\n",
    "#dev_df_bench = pd.read_csv(\"Datasets/SSSC-bench/dataframe_allDev_SameSide.csv\").drop([\"Unnamed: 0\"], axis=1)\n",
    "\n",
    "#test_df_bench = pd.read_csv(\"Datasets/SSSC-bench/dataframe_alltest_SameSide.csv\").drop([\"Unnamed: 0\"], axis=1)"
   ]
  },
  {
   "cell_type": "code",
   "execution_count": null,
   "id": "a487fb74-529b-404b-954e-d895aa37166c",
   "metadata": {},
   "outputs": [],
   "source": [
    "df_arc_train_data = train_df_bench[\"arc_train\"]\n",
    "df_ibmcs_train_data = train_df_bench[\"ibmcs_train\"]\n",
    "df_perspectrum_train_data = train_df_bench[\"perspectrum_train\"]\n",
    "df_fnc1_train_data = train_df_bench[\"fnc1_train\"]\n",
    "df_iac1_train_data = train_df_bench[\"iac1_train\"]\n",
    "df_semeval2016t6_train_data = train_df_bench[\"semeval2016t6_train\"]\n",
    "df_semeval2019t7_train_data = train_df_bench[\"semeval2019t7_train\"]\n",
    "df_snopes_train_data = train_df_bench[\"snopes_train\"]\n",
    "df_argmin_train_data = train_df_bench[\"argmin_train\"]\n",
    "df_scd_train_data = train_df_bench[\"scd_train\"]"
   ]
  },
  {
   "cell_type": "code",
   "execution_count": null,
   "id": "ebe35eb2-32f2-46a1-9c9f-e0fb4ce72a9f",
   "metadata": {},
   "outputs": [],
   "source": [
    "df_arc_dev_data = dev_df_bench[\"arc_dev\"]\n",
    "df_ibmcs_dev_data = dev_df_bench[\"ibmcs_dev\"]\n",
    "df_perspectrum_dev_data = dev_df_bench[\"perspectrum_dev\"]\n",
    "df_fnc1_dev_data = dev_df_bench[\"fnc1_dev\"]\n",
    "df_iac1_dev_data = dev_df_bench[\"iac1_dev\"]\n",
    "df_semeval2016t6_dev_data = dev_df_bench[\"semeval2016t6_dev\"]\n",
    "df_semeval2019t7_dev_data = dev_df_bench[\"semeval2019t7_dev\"]\n",
    "df_snopes_dev_data = dev_df_bench[\"snopes_dev\"]\n",
    "df_argmin_dev_data = dev_df_bench[\"argmin_dev\"]\n",
    "df_scd_dev_data = dev_df_bench[\"scd_dev\"]"
   ]
  },
  {
   "cell_type": "code",
   "execution_count": null,
   "id": "7ac68474-e981-4539-ae8c-62a23569a1b5",
   "metadata": {},
   "outputs": [],
   "source": [
    "df_arc_test_data = test_df_bench[\"arc_test\"]\n",
    "df_ibmcs_test_data = test_df_bench[\"ibmcs_test\"]\n",
    "df_perspectrum_test_data = test_df_bench[\"perspectrum_test\"]\n",
    "df_fnc1_test_data = test_df_bench[\"fnc1_test\"]\n",
    "df_iac1_test_data = test_df_bench[\"iac1_test\"]\n",
    "df_semeval2016t6_test_data = test_df_bench[\"semeval2016t6_test\"]\n",
    "df_semeval2019t7_test_data = test_df_bench[\"semeval2019t7_test\"]\n",
    "df_snopes_test_data = test_df_bench[\"snopes_test\"]\n",
    "df_argmin_test_data = test_df_bench[\"argmin_test\"]\n",
    "df_scd_test_data = test_df_bench[\"scd_test\"]"
   ]
  },
  {
   "cell_type": "code",
   "execution_count": null,
   "id": "45cd817c-997e-4cb6-91f6-84095248184c",
   "metadata": {},
   "outputs": [],
   "source": [
    "df_arc_train_data[\"dataset\"] = \"arc_train\"\n",
    "train_df_bench[\"arc_train\"] =  df_arc_train_data\n",
    "\n",
    "df_ibmcs_train_data[\"dataset\"] = \"ibmcs_train\"\n",
    "train_df_bench[\"ibmcs_train\"] =  df_ibmcs_train_data\n",
    "\n",
    "df_perspectrum_train_data[\"dataset\"] = \"perspectrum_train\"\n",
    "train_df_bench[\"perspectrum_train\"] = df_perspectrum_train_data\n",
    "\n",
    "df_fnc1_train_data[\"dataset\"] = \"fnc1_train\"\n",
    "train_df_bench[\"fnc1_train\"] = df_fnc1_train_data\n",
    "\n",
    "df_iac1_train_data[\"dataset\"] = \"iac1_train\"\n",
    "train_df_bench[\"iac1_train\"] = df_iac1_train_data\n",
    "\n",
    "df_semeval2016t6_train_data[\"dataset\"] = \"semeval2016t6_train\"\n",
    "train_df_bench[\"semeval2016t6_train\"] = df_semeval2016t6_train_data\n",
    "\n",
    "df_semeval2019t7_train_data[\"dataset\"] = \"semeval2019t7_train\"\n",
    "train_df_bench[\"semeval2019t7_train\"] = df_semeval2019t7_train_data\n",
    "\n",
    "df_snopes_train_data[\"dataset\"] = \"snopes_train\"\n",
    "train_df_bench[\"snopes_train\"] = df_snopes_train_data\n",
    "\n",
    "\n",
    "df_argmin_train_data[\"dataset\"] = \"argmin_train\"\n",
    "train_df_bench[\"argmin_train\"] = df_argmin_train_data\n",
    "\n",
    "df_scd_train_data[\"dataset\"] = \"scd_train\"\n",
    "train_df_bench[\"scd_train\"] = df_scd_train_data\n",
    "\n",
    "\n",
    "train_df = pd.concat(train_df_bench.values())\n",
    "train_df = train_df[[\"dataset\", \"topic\", \"text\", \"label\"]]\n",
    "\n",
    "#subset\n",
    "train_df_subset = train_df.sample(n=100, random_state=1)"
   ]
  },
  {
   "cell_type": "code",
   "execution_count": null,
   "id": "597a1425-cef6-48e6-b3f9-393aeedc0f7b",
   "metadata": {},
   "outputs": [],
   "source": [
    "df_snopes_train_data"
   ]
  },
  {
   "cell_type": "markdown",
   "id": "c86e4878-787d-4ffd-a1dc-858607c2fc02",
   "metadata": {},
   "source": [
    "### Topics"
   ]
  },
  {
   "cell_type": "code",
   "execution_count": null,
   "id": "53a50b42-5707-4069-85ef-c4503c8d5d0a",
   "metadata": {},
   "outputs": [],
   "source": [
    "### topics: argmin\n",
    "train_argmin_abortion = train_df_bench[\"argmin_train\"][train_df_bench[\"argmin_train\"][\"topic\"] == \"abortion\"] \n",
    "train_argmin_abortion\n",
    "\n",
    "dev_argmin_death_pen = dev_df_bench[\"argmin_dev\"]\n",
    "set(dev_df_bench[\"argmin_dev\"][\"topic\"])"
   ]
  },
  {
   "cell_type": "code",
   "execution_count": null,
   "id": "031ada94-c9af-4a92-9e12-a4d7fe1e6b6b",
   "metadata": {},
   "outputs": [],
   "source": [
    "## topics: IAC\n",
    "train_iac1_abortion = train_df_bench[\"iac1_train\"][train_df_bench[\"iac1_train\"][\"topic\"] == \"abortion\"] \n",
    "\n",
    "dev_iac1_climate =  dev_df_bench[\"iac1_dev\"][dev_df_bench[\"iac1_dev\"][\"topic\"] == \"climate change\"] \n",
    "set(dev_df_bench[\"iac1_dev\"][\"topic\"])\n",
    "dev_iac1_climate "
   ]
  },
  {
   "cell_type": "code",
   "execution_count": null,
   "id": "88572b02-7eb3-44b8-b64f-0f18fbe89a44",
   "metadata": {},
   "outputs": [],
   "source": [
    "## topics_perspectrum\n",
    "df_perspectrum_train_data = train_df_bench[\"perspectrum_train\"]\n",
    "\n",
    "train_topic = \"Raise the school leaving age to 18\"\n",
    "dev_topic =  \"Store nuclear waste underground\"\n",
    "\n",
    "train_perspectrum_topic1 = train_df_bench[\"perspectrum_train\"][train_df_bench[\"perspectrum_train\"][\"topic\"] == train_topic] \n",
    "\n",
    "dev_perspectrum_topic2 =  dev_df_bench[\"perspectrum_dev\"][dev_df_bench[\"perspectrum_dev\"][\"topic\"] == dev_topic] \n",
    "\n",
    "dev_perspectrum_topic2"
   ]
  },
  {
   "cell_type": "code",
   "execution_count": null,
   "id": "bd15b029-7ccc-4828-8e50-d08c04533787",
   "metadata": {},
   "outputs": [],
   "source": [
    "list_datasets_dev = [df_arc_dev_data, df_perspectrum_dev_data, df_fnc1_dev_data]\n",
    "list_datasets_dev2 = [df_iac1_dev_data, df_semeval2016t6_dev_data, df_semeval2019t7_dev_data]\n",
    "list_datasets_dev3 =  [df_scd_dev_data, df_ibmcs_dev_data, df_iac1_dev_data, df_semeval2016t6_dev_data, df_semeval2019t7_dev_data]\n",
    "\n",
    "list_datasets_dev_all = [df_arc_dev_data, df_perspectrum_dev_data, df_fnc1_dev_data, \n",
    "                     df_iac1_dev_data, df_semeval2016t6_dev_data, df_semeval2019t7_dev_data,\n",
    "                     df_scd_dev_data, df_ibmcs_dev_data, df_iac1_dev_data, df_semeval2016t6_dev_data, df_semeval2019t7_dev_data,\n",
    "                     df_snopes_dev_data, df_argmin_dev_data]\n",
    "                     \n",
    "                     \n",
    "\n",
    "#df_snopes_dev_data, df_argmin_dev_data,\n"
   ]
  },
  {
   "cell_type": "code",
   "execution_count": null,
   "id": "7bcdb41d-f64f-48b0-825a-dae3615beaaa",
   "metadata": {},
   "outputs": [],
   "source": [
    "list_datasets_train_all = [df_arc_train_data, df_perspectrum_train_data, df_fnc1_train_data, \n",
    "                        df_iac1_train_data, df_semeval2016t6_train_data,     \n",
    "                        df_semeval2019t7_train_data,\n",
    "                        df_scd_train_data, df_ibmcs_train_data, df_iac1_train_data,\n",
    "                        df_semeval2016t6_train_data, df_semeval2019t7_train_data,\n",
    "                        df_snopes_train_data, df_argmin_train_data]\n"
   ]
  },
  {
   "cell_type": "code",
   "execution_count": null,
   "id": "0092ab40-3782-49ce-ac54-5c989fea13ca",
   "metadata": {},
   "outputs": [],
   "source": [
    "list_datasets_test_all = [df_arc_test_data, df_perspectrum_test_data, df_fnc1_test_data, \n",
    "                        df_iac1_test_data, df_semeval2016t6_test_data,     \n",
    "                        df_semeval2019t7_test_data,\n",
    "                        df_scd_test_data, df_ibmcs_test_data, df_iac1_test_data,\n",
    "                        df_semeval2016t6_test_data, df_semeval2019t7_test_data,\n",
    "                        df_snopes_test_data, df_argmin_test_data]\n"
   ]
  },
  {
   "cell_type": "code",
   "execution_count": null,
   "id": "3b635d6b-4d95-46a8-99e7-dbb1c7585fb7",
   "metadata": {},
   "outputs": [],
   "source": [
    "list_datasets_train = [df_arc_train_data, df_perspectrum_train_data, df_fnc1_train_data]\n",
    "list_datasets_train2 = [df_iac1_train_data, df_semeval2016t6_train_data, df_semeval2019t7_train_data]\n",
    "list_datasets_train3 = [df_scd_train_data, df_ibmcs_train_data, df_iac1_train_data, df_semeval2016t6_train_data, df_semeval2019t7_train_data]\n",
    "\n",
    "str_datasets_train_all = ['df_arc_train_data', 'df_perspectrum_train_data', 'df_fnc1_train_data', \n",
    "                        'df_iac1_train_data', 'df_semeval2016t6_train_data',     \n",
    "                        'df_semeval2019t7_train_data',\n",
    "                        'df_scd_train_data', 'df_ibmcs_train_data', 'df_iac1_train_data',\n",
    "                        'df_semeval2016t6_train_data', 'df_semeval2019t7_train_data',\n",
    "                        'df_snopes_train_data', 'df_argmin_train_data']\n",
    "\n",
    "#df_snopes_train_data, df_argmin_train_data, "
   ]
  },
  {
   "cell_type": "code",
   "execution_count": null,
   "id": "7ec27e42-4d74-42ea-98a9-581993fd1e54",
   "metadata": {},
   "outputs": [],
   "source": [
    "list_datasets_test = [df_arc_test_data, df_perspectrum_test_data, df_fnc1_test_data]\n",
    "list_datasets_test2 = [df_iac1_test_data, df_semeval2016t6_test_data, df_semeval2019t7_test_data]\n",
    "list_datasets_test3 = [df_scd_test_data, df_ibmcs_test_data, df_iac1_test_data, df_semeval2016t6_test_data, df_semeval2019t7_test_data]\n",
    "\n",
    "str_datasets_test_all = ['df_arc_test_data', 'df_perspectrum_test_data', 'df_fnc1_test_data', \n",
    "                        'df_iac1_test_data', 'df_semeval2016t6_test_data',     \n",
    "                        'df_semeval2019t7_test_data',\n",
    "                        'df_scd_test_data', 'df_ibmcs_test_data', 'df_iac1_test_data',\n",
    "                        'df_semeval2016t6_test_data', 'df_semeval2019t7_test_data',\n",
    "                        'df_snopes_test_data', 'df_argmin_test_data']\n"
   ]
  },
  {
   "cell_type": "code",
   "execution_count": null,
   "id": "94f5a368-58e5-46ef-b05a-be9b12dbbf89",
   "metadata": {},
   "outputs": [],
   "source": [
    "list_datasets_str = ['df_scd_train_data', 'df_ibmcs_train_data', 'df_iac1_train_data', 'df_semeval2016t6_train_data']\n",
    "\n",
    "#list_datasets_str_all =\n",
    "\n",
    "# 'df_iac1_train_data', 'df_semeval2016t6_train_data', \n",
    "#                  'df_semeval2019t7_train_data', \n",
    "#                  'df_snopes_train_data',\n",
    "#                  'df_argmin_train_data',\n",
    "#                  'df_scd_train_data']"
   ]
  },
  {
   "cell_type": "markdown",
   "id": "e803c90e-048f-465c-b555-395fb9af7616",
   "metadata": {},
   "source": [
    "### Few-Shot"
   ]
  },
  {
   "cell_type": "code",
   "execution_count": null,
   "id": "ba38a095-98e3-4f61-87d6-3017134f3f73",
   "metadata": {},
   "outputs": [],
   "source": [
    "N = 100"
   ]
  },
  {
   "cell_type": "code",
   "execution_count": null,
   "id": "e40bbfe7-315d-4850-9ed6-817b60286cfa",
   "metadata": {},
   "outputs": [],
   "source": [
    "df_arc_dev_data[\"dataset\"] = \"arc_dev\"\n",
    "dev_df_bench[\"arc_dev\"] =  df_arc_dev_data\n",
    "\n",
    "df_ibmcs_dev_data[\"dataset\"] = \"ibmcs_dev\"\n",
    "dev_df_bench[\"ibmcs_dev\"] =  df_ibmcs_dev_data\n",
    "\n",
    "df_perspectrum_dev_data[\"dataset\"] = \"perspectrum_dev\"\n",
    "dev_df_bench[\"perspectrum_dev\"] = df_perspectrum_dev_data\n",
    "\n",
    "df_fnc1_dev_data[\"dataset\"] = \"fnc1_dev\"\n",
    "dev_df_bench[\"fnc1_dev\"] = df_fnc1_dev_data\n",
    "\n",
    "df_iac1_dev_data[\"dataset\"] = \"iac1_dev\"\n",
    "dev_df_bench[\"iac1_dev\"] = df_iac1_dev_data\n",
    "\n",
    "df_semeval2016t6_dev_data[\"dataset\"] = \"semeval2016t6_dev\"\n",
    "dev_df_bench[\"semeval2016t6_dev\"] = df_semeval2016t6_dev_data\n",
    "\n",
    "df_semeval2019t7_dev_data[\"dataset\"] = \"semeval2019t7_dev\"\n",
    "dev_df_bench[\"semeval2019t7_dev\"] = df_semeval2019t7_dev_data\n",
    "\n",
    "df_snopes_dev_data[\"dataset\"] = \"snopes_dev\"\n",
    "dev_df_bench[\"snopes_dev\"] = df_snopes_dev_data\n",
    "\n",
    "\n",
    "df_argmin_dev_data[\"dataset\"] = \"argmin_dev\"\n",
    "dev_df_bench[\"argmin_dev\"] = df_argmin_dev_data\n",
    "\n",
    "df_scd_dev_data[\"dataset\"] = \"scd_dev\"\n",
    "dev_df_bench[\"scd_dev\"] = df_scd_dev_data\n",
    "\n",
    "\n",
    "dev_df = pd.concat(dev_df_bench.values())\n",
    "dev_df = dev_df[[\"dataset\", \"topic\", \"text\", \"label\"]]\n",
    "dev_df\n"
   ]
  },
  {
   "cell_type": "code",
   "execution_count": null,
   "id": "a8185a45-ca04-46f5-83ec-de5db4f231a6",
   "metadata": {},
   "outputs": [],
   "source": [
    "df_arc_test_data[\"dataset\"] = \"arc_test\"\n",
    "test_df_bench[\"arc_test\"] =  df_arc_test_data\n",
    "\n",
    "df_ibmcs_test_data[\"dataset\"] = \"ibmcs_test\"\n",
    "test_df_bench[\"ibmcs_test\"] =  df_ibmcs_test_data\n",
    "\n",
    "df_perspectrum_test_data[\"dataset\"] = \"perspectrum_test\"\n",
    "test_df_bench[\"perspectrum_test\"] = df_perspectrum_test_data\n",
    "\n",
    "df_fnc1_test_data[\"dataset\"] = \"fnc1_test\"\n",
    "test_df_bench[\"fnc1_test\"] = df_fnc1_test_data\n",
    "\n",
    "df_iac1_test_data[\"dataset\"] = \"iac1_test\"\n",
    "test_df_bench[\"iac1_test\"] = df_iac1_test_data\n",
    "\n",
    "df_semeval2016t6_test_data[\"dataset\"] = \"semeval2016t6_test\"\n",
    "test_df_bench[\"semeval2016t6_test\"] = df_semeval2016t6_test_data\n",
    "\n",
    "df_semeval2019t7_test_data[\"dataset\"] = \"semeval2019t7_test\"\n",
    "test_df_bench[\"semeval2019t7_test\"] = df_semeval2019t7_test_data\n",
    "\n",
    "df_snopes_test_data[\"dataset\"] = \"snopes_test\"\n",
    "test_df_bench[\"snopes_test\"] = df_snopes_test_data\n",
    "\n",
    "\n",
    "df_argmin_test_data[\"dataset\"] = \"argmin_test\"\n",
    "test_df_bench[\"argmin_test\"] = df_argmin_test_data\n",
    "\n",
    "df_scd_test_data[\"dataset\"] = \"scd_test\"\n",
    "test_df_bench[\"scd_test\"] = df_scd_test_data\n",
    "\n",
    "\n",
    "test_df = pd.concat(test_df_bench.values())\n",
    "test_df = test_df[[\"dataset\", \"topic\", \"text\", \"label\"]]\n",
    "test_df"
   ]
  },
  {
   "cell_type": "code",
   "execution_count": null,
   "id": "81e2c9ef-704f-4572-bb1c-5246b95a5052",
   "metadata": {},
   "outputs": [],
   "source": [
    "def make_Dataset(df, df_name, split, N=100):\n",
    "    df = df[df_name].sample(n=N, random_state=1)\n",
    "    ds = Dataset.from_pandas(df, split=split)\n",
    "    return ds"
   ]
  },
  {
   "cell_type": "code",
   "execution_count": null,
   "id": "2cc3d1ff-9588-4d1b-870e-a4cd1782ad62",
   "metadata": {},
   "outputs": [],
   "source": [
    "def make_all_Data(df, df_name, split):\n",
    "    #df = df[df_name]\n",
    "    ds = Dataset.from_pandas(df, split=split)\n",
    "    return ds\n",
    "    "
   ]
  },
  {
   "cell_type": "code",
   "execution_count": null,
   "id": "3d4caeaf-98a7-472c-95ef-14a892537b47",
   "metadata": {},
   "outputs": [],
   "source": [
    "train_ds = Dataset.from_pandas(train_df, split=\"train\")\n",
    "train_ds_subset = Dataset.from_pandas(train_df_subset, split=\"train\")\n",
    "dev_ds = Dataset.from_pandas(dev_df, split=\"dev\")\n",
    "test_ds = Dataset.from_pandas(test_df, split=\"test\")"
   ]
  },
  {
   "cell_type": "code",
   "execution_count": null,
   "id": "b82262c4-140a-486a-98f5-b98bb1777db7",
   "metadata": {},
   "outputs": [],
   "source": [
    "model_id = \"sentence-transformers/nli-roberta-large\""
   ]
  },
  {
   "cell_type": "code",
   "execution_count": null,
   "id": "118d174d-8932-4b60-b1a1-d4177679afb5",
   "metadata": {},
   "outputs": [],
   "source": [
    "import torch\n",
    "import gc\n",
    "torch.cuda.empty_cache()\n",
    "gc.collect()"
   ]
  },
  {
   "cell_type": "code",
   "execution_count": null,
   "id": "37836176-0479-4d4d-9724-716c75188379",
   "metadata": {},
   "outputs": [],
   "source": [
    "### All the datasets:\n",
    "import json\n",
    "\n",
    "from collections import defaultdict\n",
    "\n",
    "import setfit\n",
    "from setfit import SetFitModel, SetFitTrainer\n",
    "from sentence_transformers.losses import CosineSimilarityLoss\n",
    "\n",
    "results_roberta_large_f1_1000 = defaultdict(str)\n",
    "\n",
    "n = 0\n",
    "\n",
    "for data in zip(list_datasets_train_all, list_datasets_test_all):\n",
    "    data_name = str_datasets_test_all[n]\n",
    "    n = n +1\n",
    "    train = Dataset.from_pandas(data[0].sample(1000, random_state=42), split=\"train\")\n",
    "    dev = Dataset.from_pandas(data[1], split=\"dev\")\n",
    "    num_classes = len(train.unique(\"label\"))\n",
    "    \n",
    "    model = SetFitModel.from_pretrained(model_id, use_differentiable_head=True, head_params={\"out_features\": num_classes})\n",
    "\n",
    "    torch.cuda.empty_cache()\n",
    "    gc.collect()\n",
    "    \n",
    "    trainer = SetFitTrainer(model=model,\n",
    "                            train_dataset=train,\n",
    "                            eval_dataset=dev,\n",
    "                            loss_class=CosineSimilarityLoss,\n",
    "                            num_iterations=10,\n",
    "                            metric=\"f1\",\n",
    "                            metric_kwargs= {\"average\":\"macro\"},\n",
    "                            #auto_find_batch_size=True,\n",
    "                            batch_size=2,\n",
    "                            column_mapping={\"text\": \"text\", \"label\": \"label\"},)\n",
    "    \n",
    "    trainer.freeze()\n",
    "    trainer.train(body_learning_rate=1e-5, num_epochs=1)\n",
    "    \n",
    "    trainer.unfreeze(keep_body_frozen=True)\n",
    "    trainer.train(learning_rate=1e-2, num_epochs=50)\n",
    "    \n",
    "    result = trainer.evaluate()\n",
    "    result\n",
    "    \n",
    "    results_roberta_large_f1_1000[data_name] = result\n",
    "    \n",
    "    torch.cuda.empty_cache()\n",
    "    gc.collect()\n",
    "    \n",
    "    with open('results_roberta_large_f1_1000.txt', 'a+') as file:\n",
    "         file.write(json.dumps(results_roberta_large_f1_1000))\n",
    "    \n",
    "    torch.cuda.empty_cache()\n",
    "    gc.collect()"
   ]
  },
  {
   "cell_type": "code",
   "execution_count": null,
   "id": "f5d7be4f-7fa4-4548-b605-6a2fb1d5f93e",
   "metadata": {},
   "outputs": [],
   "source": [
    " results_roberta_large_f1_1000"
   ]
  },
  {
   "cell_type": "code",
   "execution_count": null,
   "id": "7dc4366f-9a54-40db-99c1-ff679bb7a1bb",
   "metadata": {},
   "outputs": [],
   "source": [
    "# from sklearn.metrics import classification_report\n",
    "\n",
    "# n = 0\n",
    "\n",
    "# for data in zip(list_datasets_train_all, list_datasets_test_all):\n",
    "#     data_name = str_datasets_train_all[n]\n",
    "#     n = n +1\n",
    "#     train = data[0]\n",
    "#     dev = data[1]\n",
    "#     print(train[\"label\"].value_counts().idxmax())\n",
    "#     preds = [train[\"label\"].value_counts().idxmax()] * len(dev)\n",
    "    \n",
    "#     print(data_name)\n",
    "#     print(classification_report(dev[\"label\"], preds, digits=3))\n",
    "    \n",
    "    \n",
    "                                                      \n",
    "    "
   ]
  },
  {
   "cell_type": "code",
   "execution_count": null,
   "id": "fbdef7f1-c736-4184-8b6c-7c613eccee92",
   "metadata": {},
   "outputs": [],
   "source": [
    "results_roberta_large_f1_1000"
   ]
  },
  {
   "cell_type": "code",
   "execution_count": null,
   "id": "97dc3a45-0e17-43ff-b2b7-e4f9addc8623",
   "metadata": {},
   "outputs": [],
   "source": [
    "#results_f1_500"
   ]
  },
  {
   "cell_type": "code",
   "execution_count": null,
   "id": "69cbb503-7e2a-42f0-87c2-270f399b35e5",
   "metadata": {},
   "outputs": [],
   "source": [
    "#results_f1_100"
   ]
  },
  {
   "cell_type": "code",
   "execution_count": null,
   "id": "398e62b4-c50b-43a1-9bfb-ad54180f4dce",
   "metadata": {},
   "outputs": [],
   "source": [
    "#results_f1_100"
   ]
  },
  {
   "cell_type": "code",
   "execution_count": null,
   "id": "9c21cb68-bfce-453b-a23c-c26250806bb3",
   "metadata": {},
   "outputs": [],
   "source": [
    "#argmin_abortion = make_all_Data(train_argmin_abortion, \"bla\", split=\"train\")\n",
    "#argmin_death_pen = make_all_Data(dev_argmin_death_pen, \"bla\", split=\"dev\")"
   ]
  },
  {
   "cell_type": "code",
   "execution_count": null,
   "id": "63ff4ec3-f0d0-4421-b6c8-6e2d4ae92c2c",
   "metadata": {},
   "outputs": [],
   "source": [
    "#results"
   ]
  },
  {
   "cell_type": "code",
   "execution_count": null,
   "id": "51509870-2a73-4498-a0ab-921e6676ac78",
   "metadata": {},
   "outputs": [],
   "source": [
    "#results_f1"
   ]
  },
  {
   "cell_type": "code",
   "execution_count": null,
   "id": "bde47c59-343b-4bba-ad4c-6e8076a77490",
   "metadata": {},
   "outputs": [],
   "source": [
    "#iac1_abortion = make_all_Data(train_iac1_abortion[:1000], \"bla\", split=\"train\")\n",
    "#iac1_climate = make_all_Data(dev_iac1_climate, \"bla\", split=\"dev\")"
   ]
  },
  {
   "cell_type": "code",
   "execution_count": null,
   "id": "889aff1d-3470-45e3-ba42-b08ff5946a14",
   "metadata": {},
   "outputs": [],
   "source": [
    "#argmin_death_pen"
   ]
  },
  {
   "cell_type": "code",
   "execution_count": null,
   "id": "498de5bb-e3ac-4644-8253-b8b834ca0cc5",
   "metadata": {},
   "outputs": [],
   "source": [
    "# arc_train_100 = make_Dataset(train_df_bench, \"arc_train\", split=\"train\", N=100)\n",
    "# ibmcs_train_100 = make_Dataset(train_df_bench, \"ibmcs_train\", split=\"train\", N=100)\n",
    "# perspectrum_train_100 = make_Dataset(train_df_bench, \"perspectrum_train\", split=\"train\", N=100)\n",
    "# fnc1_train_100 = make_Dataset(train_df_bench, \"fnc1_train\", split=\"train\", N=100)\n",
    "# iac1_train_100 = make_Dataset(train_df_bench, \"iac1_train\", split=\"train\", N=100)\n",
    "# semeval2016t6_train_100 = make_Dataset(train_df_bench, \"semeval2016t6_train\", split=\"train\", N=100)\n",
    "# semeval2019t7_train_100 = make_Dataset(train_df_bench, \"semeval2019t7_train\", split=\"train\", N=100)\n",
    "# snopes_train_100 = make_Dataset(train_df_bench, \"snopes_train\", split=\"train\", N=100)\n",
    "# argmin_train_100 = make_Dataset(train_df_bench, \"argmin_train\", split=\"train\", N=100)\n",
    "# scd_train_100 = make_Dataset(train_df_bench, \"scd_train\", split=\"train\", N=100)\n",
    "\n",
    "# arc_train_500 = make_Dataset(train_df_bench, \"arc_train\", split=\"train\", N=500)\n",
    "# ibmcs_train_500 = make_Dataset(train_df_bench, \"ibmcs_train\", split=\"train\", N=500)\n",
    "# perspectrum_train_500 = make_Dataset(train_df_bench, \"perspectrum_train\", split=\"train\", N=500)\n",
    "# fnc1_train_500 = make_Dataset(train_df_bench, \"fnc1_train\", split=\"train\", N=500)\n",
    "# iac1_train_500 = make_Dataset(train_df_bench, \"iac1_train\", split=\"train\", N=500)\n",
    "# semeval2016t6_train_500 = make_Dataset(train_df_bench, \"semeval2016t6_train\", split=\"train\", N=500)\n",
    "# semeval2019t7_train_500 = make_Dataset(train_df_bench, \"semeval2019t7_train\", split=\"train\", N=500)\n",
    "# snopes_train_500 = make_Dataset(train_df_bench, \"snopes_train\", split=\"train\", N=500)\n",
    "# argmin_train_500 = make_Dataset(train_df_bench, \"argmin_train\", split=\"train\", N=500)\n",
    "# scd_train_500 = make_Dataset(train_df_bench, \"scd_train\", split=\"train\", N=500)\n"
   ]
  },
  {
   "cell_type": "code",
   "execution_count": null,
   "id": "5b207cd2-e44f-4d9d-95e3-f0a725d85601",
   "metadata": {},
   "outputs": [],
   "source": [
    "# arc_dev = make_all_Data(dev_df_bench, \"arc_dev\", split=\"dev\")\n",
    "# ibmcs_dev = make_all_Data(dev_df_bench, \"ibmcs_dev\", split=\"dev\")\n",
    "# fnc1_dev = make_all_Data(dev_df_bench, \"fnc1_dev\", split=\"dev\")\n",
    "# perspectrum_dev = make_all_Data(dev_df_bench, \"perspectrum_dev\", split=\"dev\")\n",
    "# iac1_dev = make_all_Data(dev_df_bench, \"iac1_dev\", split=\"dev\")\n",
    "# semeval2016t6_dev = make_all_Data(dev_df_bench, \"semeval2016t6_dev\", split=\"dev\")\n",
    "# semeval2019t7_dev = make_all_Data(dev_df_bench, \"semeval2019t7_dev\", split=\"dev\")\n",
    "# snopes_dev = make_all_Data(dev_df_bench, \"snopes_dev\", split=\"dev\")\n",
    "# argmin_dev = make_all_Data(dev_df_bench, \"argmin_dev\", split=\"dev\")\n",
    "# scd_dev = make_all_Data(dev_df_bench, \"scd_dev\", split=\"dev\")\n",
    "\n",
    "# arc_test = make_all_Data(test_df_bench, \"arc_test\", split=\"test\")\n",
    "# ibmcs_test = make_all_Data(test_df_bench, \"ibmcs_test\", split=\"test\")\n",
    "# fnc1_test = make_all_Data(test_df_bench, \"fnc1_test\", split=\"test\")\n",
    "# perspectrum_test = make_all_Data(test_df_bench, \"perspectrum_test\", split=\"test\")\n",
    "# iac1_test = make_all_Data(test_df_bench, \"iac1_test\", split=\"test\")\n",
    "# semeval2016t6_test = make_all_Data(test_df_bench, \"semeval2016t6_test\", split=\"test\")\n",
    "# semeval2019t7_test = make_all_Data(test_df_bench, \"semeval2019t7_test\", split=\"test\")\n",
    "# snopes_test = make_all_Data(test_df_bench, \"snopes_test\", split=\"test\")\n",
    "# argmin_test = make_all_Data(test_df_bench, \"argmin_test\", split=\"test\")\n",
    "# scd_test = make_all_Data(test_df_bench, \"scd_test\", split=\"test\")"
   ]
  },
  {
   "cell_type": "code",
   "execution_count": null,
   "id": "a0a43742-3cf5-491c-8728-7b1b1fe0982e",
   "metadata": {},
   "outputs": [],
   "source": [
    "# train_ds.features"
   ]
  },
  {
   "cell_type": "markdown",
   "id": "7a7a50a3-d527-4f6c-8844-40cac9db95b4",
   "metadata": {},
   "source": [
    "### SET FIT BASIC"
   ]
  },
  {
   "cell_type": "code",
   "execution_count": null,
   "id": "2f3d900b-2c9b-407c-af05-46d9eb0b6c16",
   "metadata": {},
   "outputs": [],
   "source": [
    "# model_id = \"sentence-transformers/paraphrase-mpnet-base-v2\""
   ]
  },
  {
   "cell_type": "code",
   "execution_count": null,
   "id": "cb562103-8311-4ee4-b47a-615ad717d74c",
   "metadata": {},
   "outputs": [],
   "source": [
    "# import setfit\n",
    "# from setfit import SetFitModel, SetFitTrainer\n",
    "# from sentence_transformers.losses import CosineSimilarityLoss\n",
    "\n",
    "\n"
   ]
  },
  {
   "cell_type": "code",
   "execution_count": null,
   "id": "62a61017-5450-4223-be69-a067ce3b7430",
   "metadata": {},
   "outputs": [],
   "source": [
    "# num_classes = len(iac1_abortion.unique(\"label\"))\n",
    "# model = SetFitModel.from_pretrained(model_id, use_differentiable_head=True, head_params={\"out_features\": num_classes})"
   ]
  },
  {
   "cell_type": "code",
   "execution_count": null,
   "id": "692e67d0-9c99-4ae6-92fa-b46084bf6a26",
   "metadata": {},
   "outputs": [],
   "source": [
    "# trainer = SetFitTrainer(\n",
    "#     model=model,\n",
    "#     train_dataset=iac1_abortion,\n",
    "#     eval_dataset=iac1_climate,\n",
    "#     loss_class=CosineSimilarityLoss,\n",
    "#     num_iterations=20,\n",
    "#     #auto_find_batch_size=True,\n",
    "#     batch_size=2,\n",
    "#     column_mapping={\"text\": \"text\", \"label\": \"label\"},\n",
    "# )"
   ]
  },
  {
   "cell_type": "code",
   "execution_count": null,
   "id": "f5f4c4c3-0669-4830-9c7f-e56e3a3d7980",
   "metadata": {},
   "outputs": [],
   "source": [
    "import gc\n",
    "import torch\n",
    "torch.cuda.empty_cache()\n",
    "gc.collect()"
   ]
  },
  {
   "cell_type": "code",
   "execution_count": null,
   "id": "d7b4f2ff-e1d7-4f8d-8525-bb79c88f1d12",
   "metadata": {},
   "outputs": [],
   "source": [
    "#trainer.freeze()\n",
    "#trainer.train(body_learning_rate=1e-5, num_epochs=1)"
   ]
  },
  {
   "cell_type": "code",
   "execution_count": null,
   "id": "85dd8c79-afeb-49e7-bd09-15f2341f3738",
   "metadata": {},
   "outputs": [],
   "source": [
    "# trainer.unfreeze(keep_body_frozen=True)\n",
    "# trainer.train(learning_rate=1e-2, num_epochs=50)"
   ]
  },
  {
   "cell_type": "code",
   "execution_count": null,
   "id": "773b1c79-f083-4f90-8de6-b19d7b612037",
   "metadata": {},
   "outputs": [],
   "source": [
    "# x = trainer.evaluate()"
   ]
  },
  {
   "cell_type": "code",
   "execution_count": null,
   "id": "ac795ec3-6710-4dbb-a973-318e86e0b002",
   "metadata": {},
   "outputs": [],
   "source": [
    "# x"
   ]
  },
  {
   "cell_type": "markdown",
   "id": "0ad29d8f-fd85-416a-99e9-0e7a60acb6c6",
   "metadata": {},
   "source": [
    "## Argmin cross-topic: {'accuracy': 0.4872448979591837}"
   ]
  },
  {
   "cell_type": "code",
   "execution_count": null,
   "id": "18afb592-231f-4a1d-926a-1788326ae9fd",
   "metadata": {},
   "outputs": [],
   "source": [
    "## IAC_crosstopic: {'accuracy': 0.4141791044776119}"
   ]
  },
  {
   "cell_type": "code",
   "execution_count": null,
   "id": "b403a852-5d2b-4e35-bd20-e67c1df222ee",
   "metadata": {},
   "outputs": [],
   "source": []
  },
  {
   "cell_type": "code",
   "execution_count": null,
   "id": "45d362cb-e5c2-410c-b205-db8508a68961",
   "metadata": {},
   "outputs": [],
   "source": []
  },
  {
   "cell_type": "code",
   "execution_count": null,
   "id": "918ea80f-3419-467c-8e50-7acc3a3ce28a",
   "metadata": {},
   "outputs": [],
   "source": []
  },
  {
   "cell_type": "markdown",
   "id": "1f504de2-115c-44f1-b8fd-1347798c77ca",
   "metadata": {},
   "source": [
    "## 100 examples, arc dataset: {'accuracy': 0.7125877903835764}"
   ]
  },
  {
   "cell_type": "markdown",
   "id": "e40460c5-4398-4c82-82b1-ddc5323e7932",
   "metadata": {},
   "source": [
    "## 100 examples, df_ibmcs: 'accuracy': 0.721"
   ]
  },
  {
   "cell_type": "markdown",
   "id": "4ea47602-ab2d-42ba-ac64-2a9102bf4fa3",
   "metadata": {},
   "source": [
    "## 100 examples, df_perspectrum_train_data: {'accuracy': 0.6339932399806857}  "
   ]
  },
  {
   "cell_type": "markdown",
   "id": "6ab8fb10-6052-4951-8f84-e9429d7e0cd4",
   "metadata": {},
   "source": [
    "## 100 examples, df_fnc1_train_data: {'accuracy': 0.6698239060832444}"
   ]
  },
  {
   "cell_type": "markdown",
   "id": "25069d2d-7446-4503-8a42-af7c1d07634d",
   "metadata": {},
   "source": [
    "## 100 examples, df_iac1_train_data {'accuracy': 0.41409691629955947}"
   ]
  },
  {
   "cell_type": "markdown",
   "id": "8da5dd2a-98e5-4f76-9c55-3ee1c8216120",
   "metadata": {},
   "source": [
    "## 100 examples, df_semeval2016t6_train_data {'accuracy': 0.5347721822541966}"
   ]
  },
  {
   "cell_type": "markdown",
   "id": "b99fb70f-9564-4588-8fd7-da4b1913e853",
   "metadata": {},
   "source": [
    "## 100 examples, df_semeval2019t7_train_data {'accuracy': 0.7090909090909091}"
   ]
  },
  {
   "cell_type": "markdown",
   "id": "479789ed-998d-49c1-a152-11997e2a1414",
   "metadata": {},
   "source": [
    "## 100 examples, df_snopes_train_data {'accuracy': 0.7430406852248393}"
   ]
  },
  {
   "cell_type": "markdown",
   "id": "99a624a1-5809-4c0c-9bcb-488a0a643fff",
   "metadata": {},
   "source": [
    "## 100 examples, df_argmin_train_data {'accuracy': 0.6320153061224489}"
   ]
  },
  {
   "cell_type": "markdown",
   "id": "3b47ecab-2452-43a6-a2fa-049597bde074",
   "metadata": {},
   "source": [
    "## 100 examples, df_scd_train_data {'accuracy': 0.48717948717948717}\n"
   ]
  },
  {
   "cell_type": "code",
   "execution_count": null,
   "id": "c20c7f65-aaf4-4f5d-9a40-4f1159361cf2",
   "metadata": {},
   "outputs": [],
   "source": [
    "trainer.evaluate()"
   ]
  },
  {
   "cell_type": "markdown",
   "id": "26f32614-591f-492a-965d-587b4e22ebe0",
   "metadata": {},
   "source": [
    "## 500 examples, arc dataset: {'accuracy': 0.6866558616963804}"
   ]
  },
  {
   "cell_type": "code",
   "execution_count": null,
   "id": "408c4439-2963-447f-8ffe-f3e1cd9c9c01",
   "metadata": {},
   "outputs": [],
   "source": [
    "## 500 examples, df_ibmcs_train_data {'accuracy': 0.75}"
   ]
  },
  {
   "cell_type": "code",
   "execution_count": null,
   "id": "d5d489bb-4db0-4cd1-931f-9323100228f9",
   "metadata": {},
   "outputs": [],
   "source": [
    "## 500 examples, df_perspectrum_train_data {'accuracy': 0.6383389666827619}"
   ]
  },
  {
   "cell_type": "code",
   "execution_count": null,
   "id": "77773b2b-13bd-4e99-bdba-d194e3866fa8",
   "metadata": {},
   "outputs": [],
   "source": [
    "## 500 examples, df_fnc1_train_data "
   ]
  },
  {
   "cell_type": "code",
   "execution_count": null,
   "id": "5069e2b9-3e85-4c0c-bdaf-88561e6ea771",
   "metadata": {},
   "outputs": [],
   "source": [
    "## 500 examples, df_iac1_train_data "
   ]
  },
  {
   "cell_type": "code",
   "execution_count": null,
   "id": "ff90787e-8fae-4b08-956d-71cd68de4df5",
   "metadata": {},
   "outputs": [],
   "source": [
    "## 500 examples, df_semeval2016t6_train_data "
   ]
  },
  {
   "cell_type": "code",
   "execution_count": null,
   "id": "23896b28-2a2b-4b1a-b509-f4e7a7273466",
   "metadata": {},
   "outputs": [],
   "source": [
    "## 500 examples, df_semeval2019t7_train_data"
   ]
  },
  {
   "cell_type": "code",
   "execution_count": null,
   "id": "c4143dc0-043e-4863-bb6b-87fe9688f28c",
   "metadata": {},
   "outputs": [],
   "source": [
    "## 500 examples, df_snopes_train_data "
   ]
  },
  {
   "cell_type": "code",
   "execution_count": null,
   "id": "fadbf75d-9bc8-4d41-b7d1-e12296d80a5b",
   "metadata": {},
   "outputs": [],
   "source": [
    "## 500 examples, df_argmin_train_data "
   ]
  },
  {
   "cell_type": "code",
   "execution_count": null,
   "id": "44a1e616-b2ec-4281-9ead-986aaa622c28",
   "metadata": {},
   "outputs": [],
   "source": [
    "## 500 examples, df_scd_train_data "
   ]
  },
  {
   "cell_type": "code",
   "execution_count": null,
   "id": "da1230b9-c2a1-42a7-901d-0ca1f4e511eb",
   "metadata": {},
   "outputs": [],
   "source": []
  },
  {
   "cell_type": "code",
   "execution_count": null,
   "id": "d467b325-3bd9-4f5d-b1e8-20831653f351",
   "metadata": {},
   "outputs": [],
   "source": []
  },
  {
   "cell_type": "code",
   "execution_count": null,
   "id": "cfe58902-2468-418e-9db3-2442ffa65de2",
   "metadata": {},
   "outputs": [],
   "source": []
  },
  {
   "cell_type": "code",
   "execution_count": null,
   "id": "52e6ddc1-75bd-4fc2-8966-64b704941cbc",
   "metadata": {},
   "outputs": [],
   "source": [
    "! sudo bash -c \"echo 1 > /proc/sys/vm/overcommit_memory\""
   ]
  },
  {
   "cell_type": "code",
   "execution_count": null,
   "id": "0986d422-db52-4090-9c3e-532ea2eb92db",
   "metadata": {},
   "outputs": [],
   "source": []
  }
 ],
 "metadata": {
  "kernelspec": {
   "display_name": "Python 3 (ipykernel)",
   "language": "python",
   "name": "python3"
  },
  "language_info": {
   "codemirror_mode": {
    "name": "ipython",
    "version": 3
   },
   "file_extension": ".py",
   "mimetype": "text/x-python",
   "name": "python",
   "nbconvert_exporter": "python",
   "pygments_lexer": "ipython3",
   "version": "3.8.10"
  }
 },
 "nbformat": 4,
 "nbformat_minor": 5
}
